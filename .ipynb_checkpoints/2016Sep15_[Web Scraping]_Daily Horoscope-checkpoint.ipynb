{
 "cells": [
  {
   "cell_type": "code",
   "execution_count": null,
   "metadata": {
    "collapsed": true
   },
   "outputs": [],
   "source": [
    "#Enter and look for your Horoscope\n",
    "\n",
    "import time\n",
    "import requests\n",
    "from bs4 import BeautifulSoup\n",
    "\n",
    "star = input(\"Enter your star\")\n",
    "\n",
    "url = [\n",
    "    (\"http://mindcity.sina.com.tw/west/12horos/today/\" + star),\n",
    "    (\"http://www.astrology.com/horoscope/daily/\" + star + \".html\")\n",
    "      ]\n",
    "\n",
    "\n",
    "\n",
    "for i in range(len(url)):\n",
    "    url_open = (requests.get(url[i])).text\n",
    "    soup = BeautifulSoup(url_open)\n",
    "    \n",
    "    print (star.upper(), time.strftime('%x'))\n",
    "    \n",
    "    if (\"sina\" in (soup.find(\"link\", href=True).attrs['href'])):\n",
    "        print (soup.select(\"div.right p\")[1].text)  \n",
    "        print (soup.select(\"div.right p\")[2].text)  \n",
    "    else:\n",
    "        print (soup.select(\"div.page-horoscope-text\")[0].text)\n"
   ]
  }
 ],
 "metadata": {
  "anaconda-cloud": {},
  "kernelspec": {
   "display_name": "Python [Root]",
   "language": "python",
   "name": "Python [Root]"
  },
  "language_info": {
   "codemirror_mode": {
    "name": "ipython",
    "version": 3
   },
   "file_extension": ".py",
   "mimetype": "text/x-python",
   "name": "python",
   "nbconvert_exporter": "python",
   "pygments_lexer": "ipython3",
   "version": "3.5.2"
  }
 },
 "nbformat": 4,
 "nbformat_minor": 0
}
