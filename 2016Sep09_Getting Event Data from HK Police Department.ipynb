{
 "cells": [
  {
   "cell_type": "code",
   "execution_count": 19,
   "metadata": {
    "collapsed": false
   },
   "outputs": [
    {
     "name": "stdout",
     "output_type": "stream",
     "text": [
      "[['嘉福邨', '華心邨', '彩輝邨', '慈樂邨'], ['North', 'North', 'Wong Tai Sin', 'Wong Tai Sin'], ['1995', '1995', '1995', '1995 - 2004']]\n"
     ]
    }
   ],
   "source": [
    "#To get JSON data from HK Police Department\n",
    "\n",
    "import requests\n",
    "import json\n",
    "\n",
    "data = (requests.get(\"http://www.housingauthority.gov.hk/datagovhk/prh-estates.json\")).json()\n",
    "#after_2010 = {housing_name, year_after_2010}\n",
    "est_name = []\n",
    "dist_name = []\n",
    "year_list = []\n",
    "final_dict = [est_name, dist_name, year_list]\n",
    "\n",
    "\n",
    "\n",
    "for housing in data:\n",
    "\n",
    "    year = (housing[\"Year of Intake\"]['en'])\n",
    "    estate_name = (housing[\"Estate Name\"]['zh-Hant'])\n",
    "    district_name = (housing[\"District Name\"]['en'])\n",
    "\n",
    "    \n",
    "    if (\"1995\" in year):\n",
    "        est_name.append(estate_name)\n",
    "        dist_name.append(district_name)\n",
    "        year_list.append(year)\n",
    "    \n",
    "    #print (type(housing[\"Year of Intake\"]))\n",
    "print (final_dict)"
   ]
  },
  {
   "cell_type": "code",
   "execution_count": null,
   "metadata": {
    "collapsed": false
   },
   "outputs": [],
   "source": [
    "import requests\n",
    "\n",
    "# Call the API here.\n",
    "data = requests.get(\"http://api.open-notify.org/astros.json\").json()\n",
    "\n",
    "in_space_count = data[\"number\"]\n",
    "print (in_space_count)"
   ]
  },
  {
   "cell_type": "code",
   "execution_count": null,
   "metadata": {
    "collapsed": true
   },
   "outputs": [],
   "source": []
  }
 ],
 "metadata": {
  "anaconda-cloud": {},
  "kernelspec": {
   "display_name": "Python [Root]",
   "language": "python",
   "name": "Python [Root]"
  },
  "language_info": {
   "codemirror_mode": {
    "name": "ipython",
    "version": 3
   },
   "file_extension": ".py",
   "mimetype": "text/x-python",
   "name": "python",
   "nbconvert_exporter": "python",
   "pygments_lexer": "ipython3",
   "version": "3.5.2"
  }
 },
 "nbformat": 4,
 "nbformat_minor": 0
}
