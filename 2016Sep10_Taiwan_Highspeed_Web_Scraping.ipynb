{
 "cells": [
  {
   "cell_type": "code",
   "execution_count": 27,
   "metadata": {
    "collapsed": false
   },
   "outputs": [
    {
     "name": "stdout",
     "output_type": "stream",
     "text": [
      "0837 15:11 15:45\n",
      "1655 15:21 15:53\n",
      "0657 15:46 16:21\n",
      "0841 16:11 16:45\n",
      "0661 16:21 16:53\n",
      "0663 16:46 17:21\n",
      "0845 17:11 17:45\n",
      "0667 17:21 17:53\n",
      "0669 17:46 18:21\n",
      "0849 18:11 18:45\n"
     ]
    },
    {
     "name": "stderr",
     "output_type": "stream",
     "text": [
      "/Users/leemungyim/anaconda3/lib/python3.5/site-packages/bs4/__init__.py:166: UserWarning: No parser was explicitly specified, so I'm using the best available HTML parser for this system (\"lxml\"). This usually isn't a problem, but if you run this code on another system, or in a different virtual environment, it may use a different parser and behave differently.\n",
      "\n",
      "To get rid of this warning, change this:\n",
      "\n",
      " BeautifulSoup([your markup])\n",
      "\n",
      "to this:\n",
      "\n",
      " BeautifulSoup([your markup], \"lxml\")\n",
      "\n",
      "  markup_type=markup_type))\n"
     ]
    }
   ],
   "source": [
    "import requests\n",
    "from bs4 import BeautifulSoup as bs\n",
    "\n",
    "payload = {\n",
    "    'StartStation': '977abb69-413a-4ccf-a109-0272c24fd490', #Taipei\n",
    "    'EndStation': 'a7a04c89-900b-4798-95a3-c01c455622f4', #Hsingchu\n",
    "    'SearchDate': '2016/09/10',\n",
    "    'SearchTime': '15:00',\n",
    "    'SearchWay': 'DepartureInMandarin'\n",
    "}\n",
    "\n",
    "\n",
    "res = requests.post(\"http://www.thsrc.com.tw/tw/TimeTable/SearchResult\", data= payload)\n",
    "soup = (bs(res.text))\n",
    "\n",
    "for item in (soup.select('td tr')):\n",
    "    print ((item.select('.column1')[0].text),(item.select('.column3')[0].text),(item.select('.column4')[0].text))"
   ]
  },
  {
   "cell_type": "code",
   "execution_count": null,
   "metadata": {
    "collapsed": true
   },
   "outputs": [],
   "source": []
  }
 ],
 "metadata": {
  "anaconda-cloud": {},
  "kernelspec": {
   "display_name": "Python [Root]",
   "language": "python",
   "name": "Python [Root]"
  },
  "language_info": {
   "codemirror_mode": {
    "name": "ipython",
    "version": 3
   },
   "file_extension": ".py",
   "mimetype": "text/x-python",
   "name": "python",
   "nbconvert_exporter": "python",
   "pygments_lexer": "ipython3",
   "version": "3.5.2"
  }
 },
 "nbformat": 4,
 "nbformat_minor": 0
}
