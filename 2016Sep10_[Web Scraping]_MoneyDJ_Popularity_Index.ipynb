{
 "cells": [
  {
   "cell_type": "code",
   "execution_count": 73,
   "metadata": {
    "collapsed": false
   },
   "outputs": [
    {
     "name": "stdout",
     "output_type": "stream",
     "text": [
      "True\n",
      "{'counts': [{'count': 569, 'svc': 'NV', 'guid': '7d1bf307-8d3e-450a-84f3-ae90f93d1376'}]}\n",
      "[{'count': 569, 'svc': 'NV', 'guid': '7d1bf307-8d3e-450a-84f3-ae90f93d1376'}]\n",
      "{'count': 569, 'svc': 'NV', 'guid': '7d1bf307-8d3e-450a-84f3-ae90f93d1376'}\n"
     ]
    }
   ],
   "source": [
    "import requests\n",
    "import json\n",
    "from bs4 import BeautifulSoup\n",
    "\n",
    "url = (\"http://www.moneydj.com/InfoSvc/apis/vc\")\n",
    "payload = '{\"counts\": [{\"svc\": \"NV\", \"guid\": \"7d1bf307-8d3e-450a-84f3-ae90f93d1376\"}]}'\n",
    "head = {'Content-Type': 'application/json'}\n",
    "\n",
    "res = requests.post(url, data= payload, headers= head)\n",
    "json_res = json.loads(res.text)\n",
    "\n",
    "print (\"guid\" in json_res['counts'][0])\n",
    "print (json_res)\n",
    "print (json_res['counts'])\n",
    "print (json_res['counts'][0])\n",
    "\n",
    "\n",
    "#print (json_res.get('counts')[0].get(\"count\"))"
   ]
  },
  {
   "cell_type": "code",
   "execution_count": null,
   "metadata": {
    "collapsed": true
   },
   "outputs": [],
   "source": []
  }
 ],
 "metadata": {
  "anaconda-cloud": {},
  "kernelspec": {
   "display_name": "Python [Root]",
   "language": "python",
   "name": "Python [Root]"
  },
  "language_info": {
   "codemirror_mode": {
    "name": "ipython",
    "version": 3
   },
   "file_extension": ".py",
   "mimetype": "text/x-python",
   "name": "python",
   "nbconvert_exporter": "python",
   "pygments_lexer": "ipython3",
   "version": "3.5.2"
  }
 },
 "nbformat": 4,
 "nbformat_minor": 0
}
