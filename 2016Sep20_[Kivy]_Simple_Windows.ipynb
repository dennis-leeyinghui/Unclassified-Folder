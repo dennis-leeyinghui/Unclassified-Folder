{
 "cells": [
  {
   "cell_type": "code",
   "execution_count": null,
   "metadata": {
    "collapsed": false
   },
   "outputs": [],
   "source": [
    "from kivy.app import App\n",
    "from kivy.uix.gridlayout import GridLayout\n",
    "from kivy.uix.label import Label\n",
    "from kivy.uix.textinput import TextInput\n",
    "\n",
    "class LoginScreen(GridLayout):\n",
    "    \n",
    "    def __init__(self, **kwargs):\n",
    "        super(LoginScreen, self).__init__(**kwargs)\n",
    "        self.cols = 2\n",
    "        \n",
    "        self.add_widget(Label(text=\"User Name\"))\n",
    "        self.username = TextInput(multiline=False)\n",
    "        self.add_widget(self.username)\n",
    "        \n",
    "        self.add_widget(Label(text=\"password\"))\n",
    "        self.password = TextInput(password=True, multiline=False)\n",
    "        self.add_widget(self.password)\n",
    "\n",
    "class MyApp(App):\n",
    "    \n",
    "    def build(self):\n",
    "        return LoginScreen()\n",
    "    \n",
    "if __name__ == \"__main__\":\n",
    "    MyApp().run()"
   ]
  },
  {
   "cell_type": "code",
   "execution_count": 1,
   "metadata": {
    "collapsed": false
   },
   "outputs": [
    {
     "name": "stderr",
     "output_type": "stream",
     "text": [
      "[INFO              ] [Logger      ] Record log in /Users/leemungyim/.kivy/logs/kivy_16-09-20_7.txt\n",
      "[INFO              ] [Kivy        ] v1.9.1\n",
      "[INFO              ] [Python      ] v3.5.2 |Anaconda 4.1.1 (x86_64)| (default, Jul  2 2016, 17:52:12) \n",
      "[GCC 4.2.1 Compatible Apple LLVM 4.2 (clang-425.0.28)]\n",
      "[INFO              ] [Factory     ] 179 symbols loaded\n",
      "[INFO              ] [Image       ] Providers: img_tex, img_imageio, img_dds, img_gif, img_pygame, img_pil (img_ffpyplayer ignored)\n",
      "[INFO              ] [Text        ] Provider: pygame\n",
      "[INFO              ] [Window      ] Provider: pygame\n",
      "[INFO              ] [GL          ] OpenGL version <b'2.1 NVIDIA-10.0.40 310.90.10.05b12'>\n",
      "[INFO              ] [GL          ] OpenGL vendor <b'NVIDIA Corporation'>\n",
      "[INFO              ] [GL          ] OpenGL renderer <b'NVIDIA GeForce 320M OpenGL Engine'>\n",
      "[INFO              ] [GL          ] OpenGL parsed version: 2, 1\n",
      "[INFO              ] [GL          ] Shading version <b'1.20'>\n",
      "[INFO              ] [GL          ] Texture max size <8192>\n",
      "[INFO              ] [GL          ] Texture max units <16>\n",
      "[INFO              ] [Window      ] virtual keyboard not allowed, single mode, not docked\n",
      "[INFO              ] [OSC         ] using <multiprocessing> for socket\n",
      "[INFO              ] [Base        ] Start application main loop\n",
      "[INFO              ] [GL          ] NPOT texture support is available\n"
     ]
    },
    {
     "name": "stdout",
     "output_type": "stream",
     "text": [
      "pressed at [720.0, 381.0]\n",
      "pos: printed from root widget: [720.0, 381.0]\n"
     ]
    },
    {
     "name": "stderr",
     "output_type": "stream",
     "text": [
      "[INFO              ] [Base        ] Leaving application in progress...\n"
     ]
    }
   ],
   "source": [
    " from kivy.app import App\n",
    " from kivy.uix.widget import Widget\n",
    " from kivy.uix.button import Button\n",
    " from kivy.uix.boxlayout import BoxLayout\n",
    " from kivy.properties import ListProperty\n",
    "\n",
    " class RootWidget(BoxLayout):\n",
    "\n",
    "     def __init__(self, **kwargs):\n",
    "         super(RootWidget, self).__init__(**kwargs)\n",
    "         self.add_widget(Button(text='btn 1'))\n",
    "         cb = CustomBtn()\n",
    "         cb.bind(pressed=self.btn_pressed)\n",
    "         self.add_widget(cb)\n",
    "         #self.add_widget(Button(text='btn 2'))\n",
    "\n",
    "     def btn_pressed(self, instance, pos):\n",
    "         print ('pos: printed from root widget: {pos}'.format(pos=pos))\n",
    "\n",
    " class CustomBtn(Widget):\n",
    "\n",
    "     pressed = ListProperty([0, 0])\n",
    "\n",
    "     def on_touch_down(self, touch):\n",
    "         if self.collide_point(*touch.pos):\n",
    "             self.pressed = touch.pos\n",
    "             # we consumed the touch. return False here to propagate\n",
    "             # the touch further to the children.\n",
    "             return True\n",
    "         return super(CustomBtn, self).on_touch_down(touch)\n",
    "\n",
    "     def on_pressed(self, instance, pos):\n",
    "         print ('pressed at {pos}'.format(pos=pos))\n",
    "\n",
    " class TestApp(App):\n",
    "\n",
    "     def build(self):\n",
    "         return RootWidget()\n",
    "\n",
    "\n",
    " if __name__ == '__main__':\n",
    "     TestApp().run()"
   ]
  },
  {
   "cell_type": "code",
   "execution_count": null,
   "metadata": {
    "collapsed": true
   },
   "outputs": [],
   "source": []
  }
 ],
 "metadata": {
  "kernelspec": {
   "display_name": "Python [Root]",
   "language": "python",
   "name": "Python [Root]"
  },
  "language_info": {
   "codemirror_mode": {
    "name": "ipython",
    "version": 3
   },
   "file_extension": ".py",
   "mimetype": "text/x-python",
   "name": "python",
   "nbconvert_exporter": "python",
   "pygments_lexer": "ipython3",
   "version": "3.5.2"
  }
 },
 "nbformat": 4,
 "nbformat_minor": 0
}
