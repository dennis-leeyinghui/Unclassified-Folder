{
 "cells": [
  {
   "cell_type": "code",
   "execution_count": 1,
   "metadata": {
    "collapsed": false
   },
   "outputs": [
    {
     "name": "stdout",
     "output_type": "stream",
     "text": [
      "Commonwealth of Dominica International Maritime Registry Hong Kong Regional Office Limited<<< has the longest company name!\n",
      "Kowloon : 102\n",
      "NT : 69\n",
      "Island : 261\n"
     ]
    }
   ],
   "source": [
    "import numpy as np\n",
    "import csv\n",
    "\n",
    "csv_file = list(csv.reader(open(\"sd.csv\", 'r')))\n",
    "kowloon_counter, nt_counter, island_counter = 0, 0, 0\n",
    "\n",
    "csv_array = np.array(csv_file)\n",
    "\n",
    "company_name, length_word = \"\", 0\n",
    "length_word_list = []\n",
    "\n",
    "longest_name = [company_name, length_word]\n",
    "\n",
    "\n",
    "def longest_name(length_word_list):\n",
    "    return max(length_word_list)\n",
    "\n",
    "for line in csv_array:\n",
    "    if \"Kowloon\" in line[2]:\n",
    "        kowloon_counter += 1\n",
    "    elif \"New Territories\" in line[2]:\n",
    "        nt_counter += 1\n",
    "    else:\n",
    "        island_counter += 1\n",
    "    \n",
    "    #Add a new list of length of word\n",
    "    length_word = len(line[0])\n",
    "    length_word_list.append(length_word)\n",
    "    \n",
    "    if len(line[0]) == 90:\n",
    "        print (str(line[0]) + \"<<< has the longest company name!\")\n",
    "    \n",
    "print (\"Kowloon : \" + str(kowloon_counter))\n",
    "print (\"NT : \" + str(nt_counter))\n",
    "print (\"Island : \" + str(island_counter))\n",
    "\n",
    "#max_length_word = np.argmax(np.max(length_word_list, axis=0))\n",
    "\n",
    "\n",
    "\n",
    "#print (longest_name(length_word_list))"
   ]
  },
  {
   "cell_type": "code",
   "execution_count": null,
   "metadata": {
    "collapsed": true
   },
   "outputs": [],
   "source": []
  }
 ],
 "metadata": {
  "anaconda-cloud": {},
  "kernelspec": {
   "display_name": "Python [Root]",
   "language": "python",
   "name": "Python [Root]"
  },
  "language_info": {
   "codemirror_mode": {
    "name": "ipython",
    "version": 3
   },
   "file_extension": ".py",
   "mimetype": "text/x-python",
   "name": "python",
   "nbconvert_exporter": "python",
   "pygments_lexer": "ipython3",
   "version": "3.5.2"
  }
 },
 "nbformat": 4,
 "nbformat_minor": 0
}
