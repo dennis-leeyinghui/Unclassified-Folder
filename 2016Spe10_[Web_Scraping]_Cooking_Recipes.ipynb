{
 "cells": [
  {
   "cell_type": "code",
   "execution_count": 63,
   "metadata": {
    "collapsed": false
   },
   "outputs": [
    {
     "name": "stdout",
     "output_type": "stream",
     "text": [
      "[<p class=\"cg2 mt12\">\n",
      "<span>食谱号</span>\n",
      "<span>682721</span>\n",
      "<span class=\"ml20\">阅读</span>\n",
      "<span>963次</span>\n",
      "<span class=\"ml20\">收藏</span>\n",
      "<span>14次</span>\n",
      "</p>]\n",
      "************\n",
      "<p class=\"cg2 mt12\">\n",
      "<span>食谱号</span>\n",
      "<span>682721</span>\n",
      "<span class=\"ml20\">阅读</span>\n",
      "<span>963次</span>\n",
      "<span class=\"ml20\">收藏</span>\n",
      "<span>14次</span>\n",
      "</p>\n",
      "************\n",
      "\n",
      "食谱号\n",
      "682721\n",
      "阅读\n",
      "963次\n",
      "收藏\n",
      "14次\n",
      "\n",
      "************\n",
      "682721\n"
     ]
    },
    {
     "name": "stderr",
     "output_type": "stream",
     "text": [
      "/Users/leemungyim/anaconda3/lib/python3.5/site-packages/bs4/__init__.py:166: UserWarning: No parser was explicitly specified, so I'm using the best available HTML parser for this system (\"lxml\"). This usually isn't a problem, but if you run this code on another system, or in a different virtual environment, it may use a different parser and behave differently.\n",
      "\n",
      "To get rid of this warning, change this:\n",
      "\n",
      " BeautifulSoup([your markup])\n",
      "\n",
      "to this:\n",
      "\n",
      " BeautifulSoup([your markup], \"lxml\")\n",
      "\n",
      "  markup_type=markup_type))\n"
     ]
    }
   ],
   "source": [
    "import requests\n",
    "from bs4 import BeautifulSoup as bs\n",
    "\n",
    "header = {'user-agent': \"Mozilla/5.0 (Macintosh; Intel Mac OS X 10_11_3) AppleWebKit/537.36 (KHTML, like Gecko) Chrome/53.0.2785.101 Safari/537.36\"}\n",
    "url = requests.get(\"http://www.xinshipu.com/zuofa/682721\", headers=header)\n",
    "soup = bs(url.text)\n",
    "reup = (soup.select('.re-up'))[0]\n",
    "\n",
    "\n",
    "print ((reup.select(\".cg2.mt12\")))\n",
    "print ('************')\n",
    "print ((reup.select(\".cg2.mt12\")[0]))\n",
    "print ('************')\n",
    "print ((reup.select(\".cg2.mt12\")[0]).text)\n",
    "print ('************')\n",
    "print ((reup.select(\".cg2.mt12 span:nth-of-type(2)\")[0]).text)"
   ]
  },
  {
   "cell_type": "code",
   "execution_count": null,
   "metadata": {
    "collapsed": true
   },
   "outputs": [],
   "source": [
    "'''\n",
    "font16 mt20\n",
    "<p class=\"cg2 mt12\">\n",
    "<span>食谱号</span>\n",
    "<span>682721</span>\n",
    "<span class=\"ml20\">阅读</span>\n",
    "<span>872次</span>\n",
    "<<span class=\"ml20\">收藏</span>\n",
    "<<span>14次</span>\n",
    "</p>\n",
    "'''"
   ]
  }
 ],
 "metadata": {
  "kernelspec": {
   "display_name": "Python [Root]",
   "language": "python",
   "name": "Python [Root]"
  },
  "language_info": {
   "codemirror_mode": {
    "name": "ipython",
    "version": 3
   },
   "file_extension": ".py",
   "mimetype": "text/x-python",
   "name": "python",
   "nbconvert_exporter": "python",
   "pygments_lexer": "ipython3",
   "version": "3.5.2"
  }
 },
 "nbformat": 4,
 "nbformat_minor": 0
}
